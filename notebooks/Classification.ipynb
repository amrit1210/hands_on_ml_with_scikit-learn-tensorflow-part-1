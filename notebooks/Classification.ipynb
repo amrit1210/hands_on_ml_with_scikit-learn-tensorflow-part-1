{
 "cells": [
  {
   "cell_type": "code",
   "execution_count": 1,
   "id": "9db74041-99a6-4d3a-93b8-48873e4d352f",
   "metadata": {},
   "outputs": [],
   "source": [
    "import numpy as np\n",
    "import pandas as pd\n",
    "import matplotlib.pyplot as plt\n",
    "import warnings\n",
    "warnings.filterwarnings(\"ignore\")\n",
    "import seaborn as sns\n",
    "from sklearn.datasets import fetch_openml\n",
    "from sklearn.preprocessing import StandardScaler\n",
    "from sklearn.model_selection import StratifiedKFold, cross_val_score, cross_val_predict\n",
    "from sklearn.metrics import accuracy_score, confusion_matrix, precision_score, recall_score, f1_score, precision_recall_curve, roc_curve, roc_auc_score, classification_report\n",
    "# The SGDClassifier (stochastic) relies on randomness during training\n",
    "from sklearn.linear_model import SGDClassifier\n",
    "from sklearn.ensemble import RandomForestClassifier\n",
    "from sklearn.multiclass import OneVsOneClassifier, OneVsRestClassifier\n",
    "from sklearn.neighbors import KNeighborsClassifier\n",
    "from sklearn.multioutput import MultiOutputClassifier\n",
    "%matplotlib inline"
   ]
  },
  {
   "cell_type": "code",
   "execution_count": 2,
   "id": "8861ce80-3c6e-440e-977c-9d76e8f2360b",
   "metadata": {},
   "outputs": [
    {
     "data": {
      "text/plain": [
       "['DESCR',\n",
       " 'categories',\n",
       " 'data',\n",
       " 'details',\n",
       " 'feature_names',\n",
       " 'frame',\n",
       " 'target',\n",
       " 'target_names',\n",
       " 'url']"
      ]
     },
     "execution_count": 2,
     "metadata": {},
     "output_type": "execute_result"
    }
   ],
   "source": [
    "# This is because each image is 784 = 28×28 pixels, and each feature simply represents one pixel’s intensity, from 0 (white) to 255 (black).\n",
    "mnist = fetch_openml(\"mnist_784\", version=1) # 784 = 28 * 28 pixel, standard version containing 70,000 samples (60,000 train + 10,000 test).\n",
    "dir(mnist)"
   ]
  },
  {
   "cell_type": "code",
   "execution_count": 3,
   "id": "eeb0864b-c8b1-45a8-ba6b-0f4273523e84",
   "metadata": {},
   "outputs": [
    {
     "data": {
      "text/plain": [
       "['5', '0', '4', '1', '9', '2', '3', '6', '7', '8']\n",
       "Categories (10, object): ['0', '1', '2', '3', ..., '6', '7', '8', '9']"
      ]
     },
     "execution_count": 3,
     "metadata": {},
     "output_type": "execute_result"
    }
   ],
   "source": [
    "mnist['target'].unique() # 0 - 9 classes"
   ]
  },
  {
   "cell_type": "code",
   "execution_count": 4,
   "id": "b21ae8a3-43a3-459d-94b2-422bffbeafc3",
   "metadata": {},
   "outputs": [
    {
     "data": {
      "text/plain": [
       "((70000, 784), (70000,))"
      ]
     },
     "execution_count": 4,
     "metadata": {},
     "output_type": "execute_result"
    }
   ],
   "source": [
    "X, y = mnist[\"data\"], mnist[\"target\"]\n",
    "X.shape, y.shape"
   ]
  },
  {
   "cell_type": "code",
   "execution_count": 5,
   "id": "1a5fc971-dc6f-4a40-a12c-5dc430c5fd37",
   "metadata": {},
   "outputs": [
    {
     "name": "stdout",
     "output_type": "stream",
     "text": [
      "<class 'pandas.core.frame.DataFrame'>\n",
      "RangeIndex: 70000 entries, 0 to 69999\n",
      "Columns: 784 entries, pixel1 to pixel784\n",
      "dtypes: int64(784)\n",
      "memory usage: 418.7 MB\n"
     ]
    }
   ],
   "source": [
    "X.info()"
   ]
  },
  {
   "cell_type": "code",
   "execution_count": 6,
   "id": "84bbf2f8-98d3-49f8-a4ce-2d5fdffd617f",
   "metadata": {},
   "outputs": [
    {
     "name": "stdout",
     "output_type": "stream",
     "text": [
      "<class 'pandas.core.series.Series'>\n",
      "RangeIndex: 70000 entries, 0 to 69999\n",
      "Series name: class\n",
      "Non-Null Count  Dtype   \n",
      "--------------  -----   \n",
      "70000 non-null  category\n",
      "dtypes: category(1)\n",
      "memory usage: 68.9 KB\n"
     ]
    }
   ],
   "source": [
    "y.info()"
   ]
  },
  {
   "cell_type": "code",
   "execution_count": 7,
   "id": "132c30b6-2cd6-47cb-bc1c-5a1fd7dd2594",
   "metadata": {},
   "outputs": [
    {
     "data": {
      "text/plain": [
       "array([5, 0, 4, 1, 9, 2, 3, 6, 7, 8], dtype=int16)"
      ]
     },
     "execution_count": 7,
     "metadata": {},
     "output_type": "execute_result"
    }
   ],
   "source": [
    "y = y.astype('int16')\n",
    "y.unique()"
   ]
  },
  {
   "cell_type": "code",
   "execution_count": 8,
   "id": "da3cc61e-a31c-4911-9c40-542f5eaba749",
   "metadata": {},
   "outputs": [
    {
     "data": {
      "image/png": "[encoded data removed]",
      "text/plain": [
       "<Figure size 400x500 with 1 Axes>"
      ]
     },
     "metadata": {},
     "output_type": "display_data"
    }
   ],
   "source": [
    "plt.figure(figsize=(4,5))\n",
    "plt.imshow(X.loc[0].to_numpy().reshape(28,28), cmap=\"grey\") # turns the 784-length vector into a 28×28 pixel image.\n",
    "plt.axis(\"off\")\n",
    "plt.show()"
   ]
  },
  {
   "cell_type": "code",
   "execution_count": 9,
   "id": "9462506a-7e8a-4645-a650-19958902bfe8",
   "metadata": {},
   "outputs": [
    {
     "data": {
      "text/plain": [
       "np.int16(5)"
      ]
     },
     "execution_count": 9,
     "metadata": {},
     "output_type": "execute_result"
    }
   ],
   "source": [
    "y[0]"
   ]
  },
  {
   "cell_type": "code",
   "execution_count": 10,
   "id": "8eca0cff-e2a6-4332-b0d2-912423309a68",
   "metadata": {},
   "outputs": [
    {
     "data": {
      "text/plain": [
       "((60000, 784), (10000, 784), (60000,), (10000,))"
      ]
     },
     "execution_count": 10,
     "metadata": {},
     "output_type": "execute_result"
    }
   ],
   "source": [
    "# The MNIST dataset is actually already split into a training set (the first 60,000 images) and a test set (the last 10,000 images)\n",
    "X_train, X_test, y_train, y_test = X[:60000], X[60000:], y[:60000], y[60000:]\n",
    "X_train.shape, X_test.shape, y_train.shape, y_test.shape"
   ]
  },
  {
   "cell_type": "code",
   "execution_count": 11,
   "id": "f6149554-bd7e-4f10-98d0-e33d976cbb82",
   "metadata": {},
   "outputs": [
    {
     "data": {
      "text/plain": [
       "array([28942, 59463, 30196, ..., 25018, 20755, 40619],\n",
       "      shape=(60000,), dtype=int32)"
      ]
     },
     "execution_count": 11,
     "metadata": {},
     "output_type": "execute_result"
    }
   ],
   "source": [
    "# shuffling the dataset to insure that all cross-validation folds will be similar\n",
    "shuffle_index = np.random.permutation(60000)\n",
    "shuffle_index"
   ]
  },
  {
   "cell_type": "code",
   "execution_count": 12,
   "id": "be7faccc-30f0-4f6b-9a5c-46900072e4e3",
   "metadata": {},
   "outputs": [],
   "source": [
    "X_train, y_train = X_train.iloc[shuffle_index], y_train.iloc[shuffle_index]"
   ]
  },
  {
   "cell_type": "markdown",
   "id": "c4e6945b-d635-4425-9ec2-9c16bd2203bd",
   "metadata": {},
   "source": [
    "# Scaling the Train and Test input data"
   ]
  },
  {
   "cell_type": "code",
   "execution_count": 13,
   "id": "49c284ee-8222-4cf4-a1c1-04cc9b9b8cd5",
   "metadata": {},
   "outputs": [
    {
     "data": {
      "text/plain": [
       "((60000, 784), (10000, 784))"
      ]
     },
     "execution_count": 13,
     "metadata": {},
     "output_type": "execute_result"
    }
   ],
   "source": [
    "std_scaler = StandardScaler()\n",
    "X_train_scaled = std_scaler.fit_transform(X_train)\n",
    "X_test_scaled = std_scaler.transform(X_test)\n",
    "X_train_scaled.shape, X_test_scaled.shape"
   ]
  },
  {
   "cell_type": "markdown",
   "id": "5e027a8f-8844-47ed-af9e-5ada1428f1fd",
   "metadata": {},
   "source": [
    "# Training a binary classifier to classify if the digit is 5 or not (One Versus All / One Versus Rest (OVA) )"
   ]
  },
  {
   "cell_type": "code",
   "execution_count": 14,
   "id": "50119270-8268-4489-99c9-4cc9d7720433",
   "metadata": {},
   "outputs": [],
   "source": [
    "y_train_5 = (y_train==5)\n",
    "y_test_5 = (y_test==5)"
   ]
  },
  {
   "cell_type": "code",
   "execution_count": 15,
   "id": "7d2c6b56-6d94-4cfa-99b5-2903df65fd6c",
   "metadata": {},
   "outputs": [
    {
     "data": {
      "text/plain": [
       "array([False,  True])"
      ]
     },
     "execution_count": 15,
     "metadata": {},
     "output_type": "execute_result"
    }
   ],
   "source": [
    "y_train_5.unique()"
   ]
  },
  {
   "cell_type": "code",
   "execution_count": 16,
   "id": "014b986a-d611-45d0-9b51-16a37d7af43d",
   "metadata": {},
   "outputs": [
    {
     "data": {
      "text/html": [
       "<style>#sk-container-id-1 {\n",
       "  /* Definition of color scheme common for light and dark mode */\n",
       "  --sklearn-color-text: #000;\n",
       "  --sklearn-color-text-muted: #666;\n",
       "  --sklearn-color-line: gray;\n",
       "  /* Definition of color scheme for unfitted estimators */\n",
       "  --sklearn-color-unfitted-level-0: #fff5e6;\n",
       "  --sklearn-color-unfitted-level-1: #f6e4d2;\n",
       "  --sklearn-color-unfitted-level-2: #ffe0b3;\n",
       "  --sklearn-color-unfitted-level-3: chocolate;\n",
       "  /* Definition of color scheme for fitted estimators */\n",
       "  --sklearn-color-fitted-level-0: #f0f8ff;\n",
       "  --sklearn-color-fitted-level-1: #d4ebff;\n",
       "  --sklearn-color-fitted-level-2: #b3dbfd;\n",
       "  --sklearn-color-fitted-level-3: cornflowerblue;\n",
       "\n",
       "  /* Specific color for light theme */\n",
       "  --sklearn-color-text-on-default-background: var(--sg-text-color, var(--theme-code-foreground, var(--jp-content-font-color1, black)));\n",
       "  --sklearn-color-background: var(--sg-background-color, var(--theme-background, var(--jp-layout-color0, white)));\n",
       "  --sklearn-color-border-box: var(--sg-text-color, var(--theme-code-foreground, var(--jp-content-font-color1, black)));\n",
       "  --sklearn-color-icon: #696969;\n",
       "\n",
       "  @media (prefers-color-scheme: dark) {\n",
       "    /* Redefinition of color scheme for dark theme */\n",
       "    --sklearn-color-text-on-default-background: var(--sg-text-color, var(--theme-code-foreground, var(--jp-content-font-color1, white)));\n",
       "    --sklearn-color-background: var(--sg-background-color, var(--theme-background, var(--jp-layout-color0, #111)));\n",
       "    --sklearn-color-border-box: var(--sg-text-color, var(--theme-code-foreground, var(--jp-content-font-color1, white)));\n",
       "    --sklearn-color-icon: #878787;\n",
       "  }\n",
       "}\n",
       "\n",
       "#sk-container-id-1 {\n",
       "  color: var(--sklearn-color-text);\n",
       "}\n",
       "\n",
       "#sk-container-id-1 pre {\n",
       "  padding: 0;\n",
       "}\n",
       "\n",
       "#sk-container-id-1 input.sk-hidden--visually {\n",
       "  border: 0;\n",
       "  clip: rect(1px 1px 1px 1px);\n",
       "  clip: rect(1px, 1px, 1px, 1px);\n",
       "  height: 1px;\n",
       "  margin: -1px;\n",
       "  overflow: hidden;\n",
       "  padding: 0;\n",
       "  position: absolute;\n",
       "  width: 1px;\n",
       "}\n",
       "\n",
       "#sk-container-id-1 div.sk-dashed-wrapped {\n",
       "  border: 1px dashed var(--sklearn-color-line);\n",
       "  margin: 0 0.4em 0.5em 0.4em;\n",
       "  box-sizing: border-box;\n",
       "  padding-bottom: 0.4em;\n",
       "  background-color: var(--sklearn-color-background);\n",
       "}\n",
       "\n",
       "#sk-container-id-1 div.sk-container {\n",
       "  /* jupyter's `normalize.less` sets `[hidden] { display: none; }`\n",
       "     but bootstrap.min.css set `[hidden] { display: none !important; }`\n",
       "     so we also need the `!important` here to be able to override the\n",
       "     default hidden behavior on the sphinx rendered scikit-learn.org.\n",
       "     See: https://github.com/scikit-learn/scikit-learn/issues/21755 */\n",
       "  display: inline-block !important;\n",
       "  position: relative;\n",
       "}\n",
       "\n",
       "#sk-container-id-1 div.sk-text-repr-fallback {\n",
       "  display: none;\n",
       "}\n",
       "\n",
       "div.sk-parallel-item,\n",
       "div.sk-serial,\n",
       "div.sk-item {\n",
       "  /* draw centered vertical line to link estimators */\n",
       "  background-image: linear-gradient(var(--sklearn-color-text-on-default-background), var(--sklearn-color-text-on-default-background));\n",
       "  background-size: 2px 100%;\n",
       "  background-repeat: no-repeat;\n",
       "  background-position: center center;\n",
       "}\n",
       "\n",
       "/* Parallel-specific style estimator block */\n",
       "\n",
       "#sk-container-id-1 div.sk-parallel-item::after {\n",
       "  content: \"\";\n",
       "  width: 100%;\n",
       "  border-bottom: 2px solid var(--sklearn-color-text-on-default-background);\n",
       "  flex-grow: 1;\n",
       "}\n",
       "\n",
       "#sk-container-id-1 div.sk-parallel {\n",
       "  display: flex;\n",
       "  align-items: stretch;\n",
       "  justify-content: center;\n",
       "  background-color: var(--sklearn-color-background);\n",
       "  position: relative;\n",
       "}\n",
       "\n",
       "#sk-container-id-1 div.sk-parallel-item {\n",
       "  display: flex;\n",
       "  flex-direction: column;\n",
       "}\n",
       "\n",
       "#sk-container-id-1 div.sk-parallel-item:first-child::after {\n",
       "  align-self: flex-end;\n",
       "  width: 50%;\n",
       "}\n",
       "\n",
       "#sk-container-id-1 div.sk-parallel-item:last-child::after {\n",
       "  align-self: flex-start;\n",
       "  width: 50%;\n",
       "}\n",
       "\n",
       "#sk-container-id-1 div.sk-parallel-item:only-child::after {\n",
       "  width: 0;\n",
       "}\n",
       "\n",
       "/* Serial-specific style estimator block */\n",
       "\n",
       "#sk-container-id-1 div.sk-serial {\n",
       "  display: flex;\n",
       "  flex-direction: column;\n",
       "  align-items: center;\n",
       "  background-color: var(--sklearn-color-background);\n",
       "  padding-right: 1em;\n",
       "  padding-left: 1em;\n",
       "}\n",
       "\n",
       "\n",
       "/* Toggleable style: style used for estimator/Pipeline/ColumnTransformer box that is\n",
       "clickable and can be expanded/collapsed.\n",
       "- Pipeline and ColumnTransformer use this feature and define the default style\n",
       "- Estimators will overwrite some part of the style using the `sk-estimator` class\n",
       "*/\n",
       "\n",
       "/* Pipeline and ColumnTransformer style (default) */\n",
       "\n",
       "#sk-container-id-1 div.sk-toggleable {\n",
       "  /* Default theme specific background. It is overwritten whether we have a\n",
       "  specific estimator or a Pipeline/ColumnTransformer */\n",
       "  background-color: var(--sklearn-color-background);\n",
       "}\n",
       "\n",
       "/* Toggleable label */\n",
       "#sk-container-id-1 label.sk-toggleable__label {\n",
       "  cursor: pointer;\n",
       "  display: flex;\n",
       "  width: 100%;\n",
       "  margin-bottom: 0;\n",
       "  padding: 0.5em;\n",
       "  box-sizing: border-box;\n",
       "  text-align: center;\n",
       "  align-items: start;\n",
       "  justify-content: space-between;\n",
       "  gap: 0.5em;\n",
       "}\n",
       "\n",
       "#sk-container-id-1 label.sk-toggleable__label .caption {\n",
       "  font-size: 0.6rem;\n",
       "  font-weight: lighter;\n",
       "  color: var(--sklearn-color-text-muted);\n",
       "}\n",
       "\n",
       "#sk-container-id-1 label.sk-toggleable__label-arrow:before {\n",
       "  /* Arrow on the left of the label */\n",
       "  content: \"▸\";\n",
       "  float: left;\n",
       "  margin-right: 0.25em;\n",
       "  color: var(--sklearn-color-icon);\n",
       "}\n",
       "\n",
       "#sk-container-id-1 label.sk-toggleable__label-arrow:hover:before {\n",
       "  color: var(--sklearn-color-text);\n",
       "}\n",
       "\n",
       "/* Toggleable content - dropdown */\n",
       "\n",
       "#sk-container-id-1 div.sk-toggleable__content {\n",
       "  max-height: 0;\n",
       "  max-width: 0;\n",
       "  overflow: hidden;\n",
       "  text-align: left;\n",
       "  /* unfitted */\n",
       "  background-color: var(--sklearn-color-unfitted-level-0);\n",
       "}\n",
       "\n",
       "#sk-container-id-1 div.sk-toggleable__content.fitted {\n",
       "  /* fitted */\n",
       "  background-color: var(--sklearn-color-fitted-level-0);\n",
       "}\n",
       "\n",
       "#sk-container-id-1 div.sk-toggleable__content pre {\n",
       "  margin: 0.2em;\n",
       "  border-radius: 0.25em;\n",
       "  color: var(--sklearn-color-text);\n",
       "  /* unfitted */\n",
       "  background-color: var(--sklearn-color-unfitted-level-0);\n",
       "}\n",
       "\n",
       "#sk-container-id-1 div.sk-toggleable__content.fitted pre {\n",
       "  /* unfitted */\n",
       "  background-color: var(--sklearn-color-fitted-level-0);\n",
       "}\n",
       "\n",
       "#sk-container-id-1 input.sk-toggleable__control:checked~div.sk-toggleable__content {\n",
       "  /* Expand drop-down */\n",
       "  max-height: 200px;\n",
       "  max-width: 100%;\n",
       "  overflow: auto;\n",
       "}\n",
       "\n",
       "#sk-container-id-1 input.sk-toggleable__control:checked~label.sk-toggleable__label-arrow:before {\n",
       "  content: \"▾\";\n",
       "}\n",
       "\n",
       "/* Pipeline/ColumnTransformer-specific style */\n",
       "\n",
       "#sk-container-id-1 div.sk-label input.sk-toggleable__control:checked~label.sk-toggleable__label {\n",
       "  color: var(--sklearn-color-text);\n",
       "  background-color: var(--sklearn-color-unfitted-level-2);\n",
       "}\n",
       "\n",
       "#sk-container-id-1 div.sk-label.fitted input.sk-toggleable__control:checked~label.sk-toggleable__label {\n",
       "  background-color: var(--sklearn-color-fitted-level-2);\n",
       "}\n",
       "\n",
       "/* Estimator-specific style */\n",
       "\n",
       "/* Colorize estimator box */\n",
       "#sk-container-id-1 div.sk-estimator input.sk-toggleable__control:checked~label.sk-toggleable__label {\n",
       "  /* unfitted */\n",
       "  background-color: var(--sklearn-color-unfitted-level-2);\n",
       "}\n",
       "\n",
       "#sk-container-id-1 div.sk-estimator.fitted input.sk-toggleable__control:checked~label.sk-toggleable__label {\n",
       "  /* fitted */\n",
       "  background-color: var(--sklearn-color-fitted-level-2);\n",
       "}\n",
       "\n",
       "#sk-container-id-1 div.sk-label label.sk-toggleable__label,\n",
       "#sk-container-id-1 div.sk-label label {\n",
       "  /* The background is the default theme color */\n",
       "  color: var(--sklearn-color-text-on-default-background);\n",
       "}\n",
       "\n",
       "/* On hover, darken the color of the background */\n",
       "#sk-container-id-1 div.sk-label:hover label.sk-toggleable__label {\n",
       "  color: var(--sklearn-color-text);\n",
       "  background-color: var(--sklearn-color-unfitted-level-2);\n",
       "}\n",
       "\n",
       "/* Label box, darken color on hover, fitted */\n",
       "#sk-container-id-1 div.sk-label.fitted:hover label.sk-toggleable__label.fitted {\n",
       "  color: var(--sklearn-color-text);\n",
       "  background-color: var(--sklearn-color-fitted-level-2);\n",
       "}\n",
       "\n",
       "/* Estimator label */\n",
       "\n",
       "#sk-container-id-1 div.sk-label label {\n",
       "  font-family: monospace;\n",
       "  font-weight: bold;\n",
       "  display: inline-block;\n",
       "  line-height: 1.2em;\n",
       "}\n",
       "\n",
       "#sk-container-id-1 div.sk-label-container {\n",
       "  text-align: center;\n",
       "}\n",
       "\n",
       "/* Estimator-specific */\n",
       "#sk-container-id-1 div.sk-estimator {\n",
       "  font-family: monospace;\n",
       "  border: 1px dotted var(--sklearn-color-border-box);\n",
       "  border-radius: 0.25em;\n",
       "  box-sizing: border-box;\n",
       "  margin-bottom: 0.5em;\n",
       "  /* unfitted */\n",
       "  background-color: var(--sklearn-color-unfitted-level-0);\n",
       "}\n",
       "\n",
       "#sk-container-id-1 div.sk-estimator.fitted {\n",
       "  /* fitted */\n",
       "  background-color: var(--sklearn-color-fitted-level-0);\n",
       "}\n",
       "\n",
       "/* on hover */\n",
       "#sk-container-id-1 div.sk-estimator:hover {\n",
       "  /* unfitted */\n",
       "  background-color: var(--sklearn-color-unfitted-level-2);\n",
       "}\n",
       "\n",
       "#sk-container-id-1 div.sk-estimator.fitted:hover {\n",
       "  /* fitted */\n",
       "  background-color: var(--sklearn-color-fitted-level-2);\n",
       "}\n",
       "\n",
       "/* Specification for estimator info (e.g. \"i\" and \"?\") */\n",
       "\n",
       "/* Common style for \"i\" and \"?\" */\n",
       "\n",
       ".sk-estimator-doc-link,\n",
       "a:link.sk-estimator-doc-link,\n",
       "a:visited.sk-estimator-doc-link {\n",
       "  float: right;\n",
       "  font-size: smaller;\n",
       "  line-height: 1em;\n",
       "  font-family: monospace;\n",
       "  background-color: var(--sklearn-color-background);\n",
       "  border-radius: 1em;\n",
       "  height: 1em;\n",
       "  width: 1em;\n",
       "  text-decoration: none !important;\n",
       "  margin-left: 0.5em;\n",
       "  text-align: center;\n",
       "  /* unfitted */\n",
       "  border: var(--sklearn-color-unfitted-level-1) 1pt solid;\n",
       "  color: var(--sklearn-color-unfitted-level-1);\n",
       "}\n",
       "\n",
       ".sk-estimator-doc-link.fitted,\n",
       "a:link.sk-estimator-doc-link.fitted,\n",
       "a:visited.sk-estimator-doc-link.fitted {\n",
       "  /* fitted */\n",
       "  border: var(--sklearn-color-fitted-level-1) 1pt solid;\n",
       "  color: var(--sklearn-color-fitted-level-1);\n",
       "}\n",
       "\n",
       "/* On hover */\n",
       "div.sk-estimator:hover .sk-estimator-doc-link:hover,\n",
       ".sk-estimator-doc-link:hover,\n",
       "div.sk-label-container:hover .sk-estimator-doc-link:hover,\n",
       ".sk-estimator-doc-link:hover {\n",
       "  /* unfitted */\n",
       "  background-color: var(--sklearn-color-unfitted-level-3);\n",
       "  color: var(--sklearn-color-background);\n",
       "  text-decoration: none;\n",
       "}\n",
       "\n",
       "div.sk-estimator.fitted:hover .sk-estimator-doc-link.fitted:hover,\n",
       ".sk-estimator-doc-link.fitted:hover,\n",
       "div.sk-label-container:hover .sk-estimator-doc-link.fitted:hover,\n",
       ".sk-estimator-doc-link.fitted:hover {\n",
       "  /* fitted */\n",
       "  background-color: var(--sklearn-color-fitted-level-3);\n",
       "  color: var(--sklearn-color-background);\n",
       "  text-decoration: none;\n",
       "}\n",
       "\n",
       "/* Span, style for the box shown on hovering the info icon */\n",
       ".sk-estimator-doc-link span {\n",
       "  display: none;\n",
       "  z-index: 9999;\n",
       "  position: relative;\n",
       "  font-weight: normal;\n",
       "  right: .2ex;\n",
       "  padding: .5ex;\n",
       "  margin: .5ex;\n",
       "  width: min-content;\n",
       "  min-width: 20ex;\n",
       "  max-width: 50ex;\n",
       "  color: var(--sklearn-color-text);\n",
       "  box-shadow: 2pt 2pt 4pt #999;\n",
       "  /* unfitted */\n",
       "  background: var(--sklearn-color-unfitted-level-0);\n",
       "  border: .5pt solid var(--sklearn-color-unfitted-level-3);\n",
       "}\n",
       "\n",
       ".sk-estimator-doc-link.fitted span {\n",
       "  /* fitted */\n",
       "  background: var(--sklearn-color-fitted-level-0);\n",
       "  border: var(--sklearn-color-fitted-level-3);\n",
       "}\n",
       "\n",
       ".sk-estimator-doc-link:hover span {\n",
       "  display: block;\n",
       "}\n",
       "\n",
       "/* \"?\"-specific style due to the `<a>` HTML tag */\n",
       "\n",
       "#sk-container-id-1 a.estimator_doc_link {\n",
       "  float: right;\n",
       "  font-size: 1rem;\n",
       "  line-height: 1em;\n",
       "  font-family: monospace;\n",
       "  background-color: var(--sklearn-color-background);\n",
       "  border-radius: 1rem;\n",
       "  height: 1rem;\n",
       "  width: 1rem;\n",
       "  text-decoration: none;\n",
       "  /* unfitted */\n",
       "  color: var(--sklearn-color-unfitted-level-1);\n",
       "  border: var(--sklearn-color-unfitted-level-1) 1pt solid;\n",
       "}\n",
       "\n",
       "#sk-container-id-1 a.estimator_doc_link.fitted {\n",
       "  /* fitted */\n",
       "  border: var(--sklearn-color-fitted-level-1) 1pt solid;\n",
       "  color: var(--sklearn-color-fitted-level-1);\n",
       "}\n",
       "\n",
       "/* On hover */\n",
       "#sk-container-id-1 a.estimator_doc_link:hover {\n",
       "  /* unfitted */\n",
       "  background-color: var(--sklearn-color-unfitted-level-3);\n",
       "  color: var(--sklearn-color-background);\n",
       "  text-decoration: none;\n",
       "}\n",
       "\n",
       "#sk-container-id-1 a.estimator_doc_link.fitted:hover {\n",
       "  /* fitted */\n",
       "  background-color: var(--sklearn-color-fitted-level-3);\n",
       "}\n",
       "</style><div id=\"sk-container-id-1\" class=\"sk-top-container\"><div class=\"sk-text-repr-fallback\"><pre>SGDClassifier(loss=&#x27;log_loss&#x27;, random_state=42)</pre><b>In a Jupyter environment, please rerun this cell to show the HTML representation or trust the notebook. <br />On GitHub, the HTML representation is unable to render, please try loading this page with nbviewer.org.</b></div><div class=\"sk-container\" hidden><div class=\"sk-item\"><div class=\"sk-estimator fitted sk-toggleable\"><input class=\"sk-toggleable__control sk-hidden--visually\" id=\"sk-estimator-id-1\" type=\"checkbox\" checked><label for=\"sk-estimator-id-1\" class=\"sk-toggleable__label fitted sk-toggleable__label-arrow\"><div><div>SGDClassifier</div></div><div><a class=\"sk-estimator-doc-link fitted\" rel=\"noreferrer\" target=\"_blank\" href=\"https://scikit-learn.org/1.6/modules/generated/sklearn.linear_model.SGDClassifier.html\">?<span>Documentation for SGDClassifier</span></a><span class=\"sk-estimator-doc-link fitted\">i<span>Fitted</span></span></div></label><div class=\"sk-toggleable__content fitted\"><pre>SGDClassifier(loss=&#x27;log_loss&#x27;, random_state=42)</pre></div> </div></div></div></div>"
      ],
      "text/plain": [
       "SGDClassifier(loss='log_loss', random_state=42)"
      ]
     },
     "execution_count": 16,
     "metadata": {},
     "output_type": "execute_result"
    }
   ],
   "source": [
    "sgd_clf = SGDClassifier(loss=\"log_loss\", random_state=42)\n",
    "sgd_clf.fit(X_train_scaled, y_train_5)"
   ]
  },
  {
   "cell_type": "code",
   "execution_count": 17,
   "id": "351be372-9d3c-4a02-aacc-281876b0dab8",
   "metadata": {},
   "outputs": [
    {
     "name": "stdout",
     "output_type": "stream",
     "text": [
      " Binary classification train accuracy 5: 0.97\n",
      " Binary classification test accuracy 5: 0.97\n"
     ]
    }
   ],
   "source": [
    "y_train_predicted5 = sgd_clf.predict(X_train_scaled) \n",
    "y_test_predicted5 = sgd_clf.predict(X_test_scaled)\n",
    "print(f\" Binary classification train accuracy 5: {accuracy_score(y_train_predicted5, y_train_5):.2f}\")\n",
    "print(f\" Binary classification test accuracy 5: {accuracy_score(y_test_predicted5, y_test_5):.2f}\")"
   ]
  },
  {
   "cell_type": "markdown",
   "id": "a07c1801-7a6d-4877-95e7-d6f2f2be8118",
   "metadata": {},
   "source": [
    "# Implementation using StratifiedKFold cross validation"
   ]
  },
  {
   "cell_type": "code",
   "execution_count": 18,
   "id": "0d3441dc-59a0-4c12-a400-8aab6c394234",
   "metadata": {},
   "outputs": [
    {
     "name": "stdout",
     "output_type": "stream",
     "text": [
      "Splitting fold 0\n",
      "Fold 0 has accuracy 0.90\n",
      "Splitting fold 1\n",
      "Fold 1 has accuracy 0.91\n",
      "Splitting fold 2\n",
      "Fold 2 has accuracy 0.90\n",
      "Splitting fold 3\n",
      "Fold 3 has accuracy 0.90\n",
      "Splitting fold 4\n",
      "Fold 4 has accuracy 0.91\n"
     ]
    }
   ],
   "source": [
    "# StratifiedKFold(...).split(X, y) gives you training/test indices while keeping class proportions.\n",
    "# Each fold uses a different 20% test set, but all maintain balanced digit class distribution (very important for MNIST).\n",
    "skf = StratifiedKFold(n_splits=5, shuffle=True)\n",
    "for fold, (train_index, test_index) in enumerate(skf.split(X_train_scaled, y_train_5)):\n",
    "    print(f\"Splitting fold {fold}\")\n",
    "    X_train5, X_val5 = X_train_scaled[train_index], X_train_scaled[test_index]\n",
    "    y_train5, y_val5 = y_train_5.loc[train_index], y_train_5.loc[test_index]\n",
    "\n",
    "    model = SGDClassifier(loss=\"log_loss\", random_state=42)\n",
    "    model.fit(X_train5, y_train5)\n",
    "    y_val_pred = model.predict(X_val5)\n",
    "    acc = accuracy_score(y_val5, y_val_pred)\n",
    "    print(f\"Fold {fold} has accuracy {acc:.2f}\")"
   ]
  },
  {
   "cell_type": "markdown",
   "id": "4d16c7ee-cfe2-4506-8fb6-e32e73276d55",
   "metadata": {},
   "source": [
    "##### Or,"
   ]
  },
  {
   "cell_type": "code",
   "execution_count": 19,
   "id": "f6ddd6e4-5241-410f-befb-e94b592c355b",
   "metadata": {},
   "outputs": [
    {
     "name": "stdout",
     "output_type": "stream",
     "text": [
      "[0.969      0.96841667 0.96975    0.96883333 0.97025   ]\n"
     ]
    }
   ],
   "source": [
    "# Alternatively use cross_val_score with Stratified KFold\n",
    "scores = cross_val_score(sgd_clf, X_train_scaled, y_train_5, cv=StratifiedKFold(n_splits=5), scoring=\"accuracy\")\n",
    "print(scores)"
   ]
  },
  {
   "cell_type": "markdown",
   "id": "91dc2c68-a781-4615-9abc-454a4ba2d2a2",
   "metadata": {},
   "source": [
    "# Confusion Matrix"
   ]
  },
  {
   "cell_type": "markdown",
   "id": "fab14d6d-25f1-4cfd-8ef3-3c7572c85e09",
   "metadata": {},
   "source": [
    "### Using cross_val_predict  \n",
    "Similar to cross_val_score(), but returns predictions instead of accuracy score"
   ]
  },
  {
   "cell_type": "code",
   "execution_count": 20,
   "id": "737b8c1c-580e-48c8-ae81-feee65b7c821",
   "metadata": {},
   "outputs": [],
   "source": [
    "y_train_5_predict = cross_val_predict(sgd_clf, X_train_scaled, y_train_5, cv=StratifiedKFold(n_splits=5))"
   ]
  },
  {
   "cell_type": "code",
   "execution_count": 21,
   "id": "493848e0-e255-4a07-8db1-814a7b24f3be",
   "metadata": {},
   "outputs": [
    {
     "data": {
      "text/plain": [
       "array([[53961,   618],\n",
       "       [ 1227,  4194]])"
      ]
     },
     "execution_count": 21,
     "metadata": {},
     "output_type": "execute_result"
    }
   ],
   "source": [
    "cm = confusion_matrix(y_train_5, y_train_5_predict)\n",
    "cm"
   ]
  },
  {
   "cell_type": "code",
   "execution_count": 22,
   "id": "e18a7246-7a6c-42b2-827c-3e6d3459600b",
   "metadata": {},
   "outputs": [
    {
     "data": {
      "image/png": "[encoded data removed]",
      "text/plain": [
       "<Figure size 480x480 with 1 Axes>"
      ]
     },
     "metadata": {},
     "output_type": "display_data"
    }
   ],
   "source": [
    "plt.matshow(cm, cmap=plt.cm.gray)\n",
    "plt.show()"
   ]
  },
  {
   "cell_type": "markdown",
   "id": "6c34e162-5ce4-4447-96a2-d6beef1e4947",
   "metadata": {},
   "source": [
    "##### Interpretention:  \n",
    "True Negatives: The first row of this matrix considers non-5 images (the negative class): 53,953 of them were correctly classified as non-5s.   \n",
    "False Positives: while the remaining 626 were wrongly classified as 5s.  \n",
    "The second row considers the images of 5s (the positive class).  \n",
    "False Negatives: 1,200 were wrongly classified as non-5s.  \n",
    "True Positives: while the remaining 4,221 were correctly classified as 5s.    \n",
    "A perfect classifier would have only true positives and true negatives.  "
   ]
  },
  {
   "cell_type": "markdown",
   "id": "50e135ed-18e4-412a-982f-648e5721f266",
   "metadata": {},
   "source": [
    "# Precision & Recall  \n",
    "Precision: Accuracy of the positive predictions (TP/(TP+FP))  \n",
    "Recall(Sensitivity / True Positive Rate): Ratio of positive instances that are correctly detected by the classifier (TP/(TP+FN))"
   ]
  },
  {
   "cell_type": "code",
   "execution_count": 23,
   "id": "2d11693c-530b-490d-9fe0-aa8e1a66de96",
   "metadata": {},
   "outputs": [
    {
     "name": "stdout",
     "output_type": "stream",
     "text": [
      "Precision Score: 0.871571072319202\n",
      "Recall Score: 0.7736579966795795\n"
     ]
    }
   ],
   "source": [
    "print(f\"Precision Score: {precision_score(y_train_5, y_train_5_predict)}\")\n",
    "print(f\"Recall Score: {recall_score(y_train_5, y_train_5_predict)}\")"
   ]
  },
  {
   "cell_type": "markdown",
   "id": "73502d12-eddb-4f5a-849a-656a6d01c3b7",
   "metadata": {},
   "source": [
    "Observation:  \n",
    "So, When our classifier claims an image represents a 5, it is only accurate 87% of the time.  \n",
    "Moreover, it only detects 77% of the 5s.  "
   ]
  },
  {
   "cell_type": "markdown",
   "id": "ea16b130-abc3-4928-a5fc-2fcd949e4057",
   "metadata": {},
   "source": [
    "# F1 Score: Harmonic mean of precision and recall  \n",
    "f1_score = 2/(1/precision + 1/recall) = TP/(TP+((FP+FN)/2))  \n",
    "Precision/Recall tradeoff: Increasing precision reduces recall, and vice versa.  "
   ]
  },
  {
   "cell_type": "code",
   "execution_count": 24,
   "id": "966a82e1-d0b3-47a1-a4a1-95bae03e4d52",
   "metadata": {},
   "outputs": [
    {
     "name": "stdout",
     "output_type": "stream",
     "text": [
      "F1_score: 0.8197009674582234\n"
     ]
    }
   ],
   "source": [
    "print(f\"F1_score: {f1_score(y_train_5, y_train_5_predict)}\")"
   ]
  },
  {
   "cell_type": "markdown",
   "id": "00aba43e-bb97-4e99-b0cb-e5d737420894",
   "metadata": {},
   "source": [
    "# Precision Recall curve -  Preferred when the positive class is rare"
   ]
  },
  {
   "cell_type": "markdown",
   "id": "827e138a-4b7a-4d62-abba-53e323a30e9e",
   "metadata": {},
   "source": [
    "##### Instead of predict(), we can call the decision_function to get regression scores and set a threshold ourselves score>threshold i.e. it's a 5, otherwise not."
   ]
  },
  {
   "cell_type": "code",
   "execution_count": 25,
   "id": "ea9820b5-00a2-4a93-8577-5aaa183d6d64",
   "metadata": {},
   "outputs": [
    {
     "data": {
      "text/plain": [
       "array([-262.83852903, -616.99364799, -502.62103004, ..., -358.43784629,\n",
       "       -367.09119272,  -31.36599023], shape=(60000,))"
      ]
     },
     "execution_count": 25,
     "metadata": {},
     "output_type": "execute_result"
    }
   ],
   "source": [
    "sgd_clf.decision_function(X_train_scaled)"
   ]
  },
  {
   "cell_type": "code",
   "execution_count": 26,
   "id": "8e62edf0-9f31-47ff-a9b1-daafadb46614",
   "metadata": {},
   "outputs": [
    {
     "data": {
      "text/plain": [
       "array([-329.83751403, -777.16014269, -635.76639027, ..., -384.31495541,\n",
       "       -398.73149199,  -28.29314383], shape=(60000,))"
      ]
     },
     "execution_count": 26,
     "metadata": {},
     "output_type": "execute_result"
    }
   ],
   "source": [
    "y_scores = cross_val_predict(sgd_clf, X_train_scaled, y_train_5, cv=StratifiedKFold(n_splits=5), method=\"decision_function\")\n",
    "y_scores"
   ]
  },
  {
   "cell_type": "code",
   "execution_count": 27,
   "id": "a93f5e68-2823-4664-a236-98f276303a05",
   "metadata": {},
   "outputs": [
    {
     "data": {
      "text/plain": [
       "(60001, 60001, 60000)"
      ]
     },
     "execution_count": 27,
     "metadata": {},
     "output_type": "execute_result"
    }
   ],
   "source": [
    "precisions, recalls, thresholds = precision_recall_curve(y_train_5, y_scores)\n",
    "len(precisions), len(recalls), len(thresholds)"
   ]
  },
  {
   "cell_type": "code",
   "execution_count": 28,
   "id": "355f5506-fd96-447f-bfd6-4c2adda144fb",
   "metadata": {},
   "outputs": [
    {
     "data": {
      "image/png": "[encoded data removed]",
      "text/plain": [
       "<Figure size 1200x1000 with 2 Axes>"
      ]
     },
     "metadata": {},
     "output_type": "display_data"
    }
   ],
   "source": [
    "fig, ax = plt.subplots(nrows=2, ncols=1, figsize=(12,10))\n",
    "ax[0].plot(thresholds, precisions[:-1], c=\"g\", linestyle=\"solid\", label=\"Precision\")\n",
    "ax[0].plot(thresholds, recalls[:-1], c=\"b\", linestyle=\"--\", label=\"Recall\")\n",
    "ax[0].set_title(\"Precion and Recall vs thresholds\")\n",
    "ax[0].set_xlabel(\"Thresholds\")\n",
    "ax[0].legend(loc=\"best\")\n",
    "\n",
    "ax[1].plot(recalls, precisions, c='b', linestyle=\"solid\")\n",
    "ax[1].set_title(\"Precision vs Recall\")\n",
    "ax[1].set_xlabel(\"Recall\")\n",
    "ax[1].set_ylabel(\"Precision\")\n",
    "plt.show()"
   ]
  },
  {
   "cell_type": "markdown",
   "id": "ba2d5d97-58ab-4990-b132-dd704a05c45a",
   "metadata": {},
   "source": [
    "# Receiver Operating Characteristic (ROC) curve  - Used otherwise\n",
    "ROC curve plots the true positive rate (recall) against the false positive rate.  \n",
    "FPR = 1 - TNR(or specifity)   \n",
    "ROC curve plots TPR/sensitivity/recall versus 1 – specificity."
   ]
  },
  {
   "cell_type": "code",
   "execution_count": 29,
   "id": "f1acaabd-ec9f-408a-a8ee-dd8cdcb0ad96",
   "metadata": {},
   "outputs": [],
   "source": [
    "fpr, tpr, thrsholds = roc_curve(y_train_5, y_scores)"
   ]
  },
  {
   "cell_type": "code",
   "execution_count": 30,
   "id": "21f3ba41-ecb2-475b-aecb-fc5a739b8a9f",
   "metadata": {},
   "outputs": [
    {
     "data": {
      "image/png": "[encoded data removed]",
      "text/plain": [
       "<Figure size 500x400 with 1 Axes>"
      ]
     },
     "metadata": {},
     "output_type": "display_data"
    }
   ],
   "source": [
    "plt.figure(figsize=(5,4))\n",
    "plt.plot(fpr, tpr, c=\"b\", linestyle=\"solid\")\n",
    "plt.title(\"ROC curve -  TPR vs FPR\")\n",
    "plt.xlabel(\"False Positive Rate (FPR)\")\n",
    "plt.ylabel(\"True Positive Rate (TPR)\")\n",
    "plt.show()"
   ]
  },
  {
   "cell_type": "markdown",
   "id": "76b9f29b-d45f-44d9-936a-81e11666031a",
   "metadata": {},
   "source": [
    "# Area under the curve (AUC)  \n",
    "A perfect classifier will have ROC AUC = 1"
   ]
  },
  {
   "cell_type": "code",
   "execution_count": 31,
   "id": "6405fbf4-28a2-4246-8862-8225fd1f6e5a",
   "metadata": {},
   "outputs": [
    {
     "data": {
      "text/plain": [
       "np.float64(0.9728959704600583)"
      ]
     },
     "execution_count": 31,
     "metadata": {},
     "output_type": "execute_result"
    }
   ],
   "source": [
    "roc_auc_score(y_train_5, y_scores) # SGD classifier"
   ]
  },
  {
   "cell_type": "markdown",
   "id": "e2d375c7-ceb1-4c79-8857-7120fec6ecb2",
   "metadata": {},
   "source": [
    "### Training a Random forest classifier to compare with Stochastic Gradient Classifier(SGD)"
   ]
  },
  {
   "cell_type": "code",
   "execution_count": 32,
   "id": "10b522e7-3d28-4258-97e8-cb3a3b44654c",
   "metadata": {},
   "outputs": [
    {
     "data": {
      "text/plain": [
       "array([[0.99, 0.01],\n",
       "       [0.98, 0.02],\n",
       "       [0.98, 0.02],\n",
       "       ...,\n",
       "       [0.99, 0.01],\n",
       "       [1.  , 0.  ],\n",
       "       [0.89, 0.11]], shape=(60000, 2))"
      ]
     },
     "execution_count": 32,
     "metadata": {},
     "output_type": "execute_result"
    }
   ],
   "source": [
    "rf_clf = RandomForestClassifier(random_state=42)\n",
    "y_probas_forest = cross_val_predict(rf_clf, X_train_scaled, y_train_5, cv=StratifiedKFold(n_splits=5), method=\"predict_proba\")\n",
    "y_probas_forest"
   ]
  },
  {
   "cell_type": "code",
   "execution_count": 33,
   "id": "cb646164-c671-4d33-bbba-f5953a85be5d",
   "metadata": {},
   "outputs": [],
   "source": [
    "y_scores_forest = cross_val_predict(rf_clf, X_train_scaled, y_train_5, cv=StratifiedKFold(n_splits=5), method=\"predict\")"
   ]
  },
  {
   "cell_type": "code",
   "execution_count": 34,
   "id": "5e132975-2814-4e9b-a7b4-4e239ce128f7",
   "metadata": {},
   "outputs": [],
   "source": [
    "fpr_forest, tpr_forest, thresholds_forest = roc_curve(y_train_5, y_scores_forest)"
   ]
  },
  {
   "cell_type": "code",
   "execution_count": 35,
   "id": "4f809a86-0770-4a72-a461-83f9602e567b",
   "metadata": {},
   "outputs": [
    {
     "data": {
      "image/png": "[encoded data removed]",
      "text/plain": [
       "<Figure size 500x400 with 1 Axes>"
      ]
     },
     "metadata": {},
     "output_type": "display_data"
    }
   ],
   "source": [
    "plt.figure(figsize=(5,4))\n",
    "plt.plot(fpr, tpr, c=\"b\", linestyle=\"dashed\", label=\"sgd\")\n",
    "plt.plot(fpr_forest, tpr_forest, c=\"g\", linestyle=\"solid\", label=\"RandomForest\")\n",
    "plt.title(\"ROC curve -  TPR vs FPR\")\n",
    "plt.xlabel(\"False Positive Rate (FPR)\")\n",
    "plt.ylabel(\"True Positive Rate (TPR)\")\n",
    "plt.legend(loc='best')\n",
    "plt.show()"
   ]
  },
  {
   "cell_type": "code",
   "execution_count": 36,
   "id": "76e227b9-004b-4967-8152-2cc81493e3a0",
   "metadata": {},
   "outputs": [
    {
     "data": {
      "text/plain": [
       "np.float64(0.9381691337119685)"
      ]
     },
     "execution_count": 36,
     "metadata": {},
     "output_type": "execute_result"
    }
   ],
   "source": [
    "roc_auc_score(y_train_5, y_scores_forest) # Random forest"
   ]
  },
  {
   "cell_type": "markdown",
   "id": "3e4d6dab-2778-4dd0-b6b2-2bf2229d34af",
   "metadata": {},
   "source": [
    "# Multiclass Classification(Multinomial Classifiers) - Classifing more than two classes"
   ]
  },
  {
   "cell_type": "markdown",
   "id": "716473e6-cc86-4fb9-8b7c-15bb4a265d26",
   "metadata": {},
   "source": [
    "We can use OneVsOneClassifier(OVO) or One Versus All/OneVsRestClassifier class  \n",
    "OneVsRest -  We saw the usecase before our 5 detector. We trained 5VsAll other classes. (Preferred for most binary classifiers).  \n",
    "OneVsOne -  It would be like training 45 classifiers for the MNIST dataset such as 0vs1, 0vs2, 1Vs2 and so on (N*(N-1))/2 classifiers, N=No. of classes.\n",
    "(Preferred for SVM classifier, since it scales poorly with large training sets)"
   ]
  },
  {
   "cell_type": "markdown",
   "id": "f39bb93b-afc0-40c3-a31c-11a78809fe99",
   "metadata": {},
   "source": [
    "##### Forcing OneVsOne classifier on SGD classifier (usually we use here OneVsRest Classifier)."
   ]
  },
  {
   "cell_type": "code",
   "execution_count": 37,
   "id": "312cca77-bc12-40d6-abe5-68f8a09190bd",
   "metadata": {},
   "outputs": [],
   "source": [
    "ovo_clf = OneVsOneClassifier(SGDClassifier(loss=\"log_loss\", random_state=42))\n",
    "ovo_clf.fit(X_train_scaled, y_train)\n",
    "y_train_predicted_sgd = ovo_clf.predict(X_train_scaled)"
   ]
  },
  {
   "cell_type": "code",
   "execution_count": 38,
   "id": "ae42b054-0ff0-4a95-bb00-81f769f34f1f",
   "metadata": {},
   "outputs": [
    {
     "data": {
      "text/plain": [
       "45"
      ]
     },
     "execution_count": 38,
     "metadata": {},
     "output_type": "execute_result"
    }
   ],
   "source": [
    "len(ovo_clf.estimators_)"
   ]
  },
  {
   "cell_type": "code",
   "execution_count": 39,
   "id": "04c7b7d8-22ae-40b9-9628-a3f38dfe404e",
   "metadata": {},
   "outputs": [
    {
     "name": "stdout",
     "output_type": "stream",
     "text": [
      "Train Accuracy : 0.9557833333333333\n",
      "Train Precision : 0.9554645797420038\n",
      "Train Recall : 0.9551914660693974\n",
      "Train F1-score: 0.9552982965526269\n"
     ]
    }
   ],
   "source": [
    "print(f\"Train Accuracy : {accuracy_score(y_train, y_train_predicted_sgd)}\")\n",
    "print(f\"Train Precision : {precision_score(y_train, y_train_predicted_sgd, average='macro')}\") # average='macro' (average) needs to be set for multiclass classification\n",
    "print(f\"Train Recall : {recall_score(y_train, y_train_predicted_sgd, average='macro')}\")\n",
    "print(f\"Train F1-score: {f1_score(y_train, y_train_predicted_sgd, average='macro')}\")"
   ]
  },
  {
   "cell_type": "code",
   "execution_count": 40,
   "id": "8a80b5ae-295f-4573-b83a-5ffc00d52c98",
   "metadata": {},
   "outputs": [],
   "source": [
    "y_test_predicted_sgd = ovo_clf.predict(X_test_scaled)"
   ]
  },
  {
   "cell_type": "code",
   "execution_count": 41,
   "id": "06e6f7d1-238c-4e25-b7d2-65e4edb0bf9a",
   "metadata": {},
   "outputs": [
    {
     "name": "stdout",
     "output_type": "stream",
     "text": [
      "Test Accuracy : 0.9244\n",
      "Test Precision : 0.9239819421444544\n",
      "Test Recall : 0.9233481928446732\n",
      "Test F1-score: 0.9235333865386341\n"
     ]
    }
   ],
   "source": [
    "print(f\"Test Accuracy : {accuracy_score(y_test, y_test_predicted_sgd)}\")\n",
    "print(f\"Test Precision : {precision_score(y_test, y_test_predicted_sgd, average='macro')}\") # average='macro' (average) needs to be set for multiclass classification\n",
    "print(f\"Test Recall : {recall_score(y_test, y_test_predicted_sgd, average='macro')}\")\n",
    "print(f\"Test F1-score: {f1_score(y_test, y_test_predicted_sgd, average='macro')}\")"
   ]
  },
  {
   "cell_type": "markdown",
   "id": "00327c0f-4135-4861-afc0-2204b600ffb2",
   "metadata": {},
   "source": [
    "##### Multiclass classification using Random Forest classifier (Doesnot needs OVO or OVA, can directly classify multiclass output)  \n",
    "Random Forest Classifier and Naive Bayes Classifier can handle multi class classification automatically.  "
   ]
  },
  {
   "cell_type": "code",
   "execution_count": 42,
   "id": "4f69a2e9-38b4-49cc-8552-3630905d4a8d",
   "metadata": {},
   "outputs": [],
   "source": [
    "rf_clf = RandomForestClassifier(random_state=42)\n",
    "rf_clf.fit(X_train_scaled, y_train)\n",
    "y_train_predicted_rf = rf_clf.predict(X_train_scaled)"
   ]
  },
  {
   "cell_type": "code",
   "execution_count": 43,
   "id": "9bdc525b-66c6-4877-8299-d474744140d4",
   "metadata": {},
   "outputs": [
    {
     "data": {
      "text/plain": [
       "array([[0.  , 0.  , 0.  , ..., 0.01, 0.  , 0.03],\n",
       "       [0.01, 0.  , 0.  , ..., 0.  , 0.  , 0.  ],\n",
       "       [0.97, 0.  , 0.  , ..., 0.  , 0.01, 0.01],\n",
       "       ...,\n",
       "       [0.  , 0.  , 0.01, ..., 0.02, 0.83, 0.02],\n",
       "       [0.  , 1.  , 0.  , ..., 0.  , 0.  , 0.  ],\n",
       "       [0.  , 0.  , 0.01, ..., 0.  , 0.03, 0.03]], shape=(60000, 10))"
      ]
     },
     "execution_count": 43,
     "metadata": {},
     "output_type": "execute_result"
    }
   ],
   "source": [
    "rf_clf.predict_proba(X_train_scaled)"
   ]
  },
  {
   "cell_type": "code",
   "execution_count": 44,
   "id": "e8dce2a2-42c9-47c4-8ddc-7f28508186b9",
   "metadata": {},
   "outputs": [
    {
     "name": "stdout",
     "output_type": "stream",
     "text": [
      "Train Accuracy : 1.0\n",
      "Train Precision : 1.0\n",
      "Train Recall : 1.0\n",
      "Train F1-score: 1.0\n"
     ]
    }
   ],
   "source": [
    "print(f\"Train Accuracy : {accuracy_score(y_train, y_train_predicted_rf)}\")\n",
    "print(f\"Train Precision : {precision_score(y_train, y_train_predicted_rf, average='macro')}\") # average='macro' (average) needs to be set for multiclass classification\n",
    "print(f\"Train Recall : {recall_score(y_train, y_train_predicted_rf, average='macro')}\")\n",
    "print(f\"Train F1-score: {f1_score(y_train, y_train_predicted_rf, average='macro')}\")"
   ]
  },
  {
   "cell_type": "code",
   "execution_count": 45,
   "id": "6c02f50e-0c31-4438-bb89-ac9d705b7ea8",
   "metadata": {},
   "outputs": [],
   "source": [
    "y_test_predicted_rf = rf_clf.predict(X_test_scaled)"
   ]
  },
  {
   "cell_type": "code",
   "execution_count": 46,
   "id": "070c11d0-254d-473a-92fc-aa76f4ca8fe3",
   "metadata": {},
   "outputs": [
    {
     "name": "stdout",
     "output_type": "stream",
     "text": [
      "Test Accuracy : 0.9695\n",
      "Test Precision : 0.9693723362604783\n",
      "Test Recall : 0.9692224007797892\n",
      "Test F1-score: 0.9692771356864688\n"
     ]
    }
   ],
   "source": [
    "print(f\"Test Accuracy : {accuracy_score(y_test, y_test_predicted_rf)}\")\n",
    "print(f\"Test Precision : {precision_score(y_test, y_test_predicted_rf, average='macro')}\") # average='macro' (average) needs to be set for multiclass classification\n",
    "print(f\"Test Recall : {recall_score(y_test, y_test_predicted_rf, average='macro')}\")\n",
    "print(f\"Test F1-score: {f1_score(y_test, y_test_predicted_rf, average='macro')}\")"
   ]
  },
  {
   "cell_type": "code",
   "execution_count": 47,
   "id": "1e55a99c-a171-48c4-bc3e-b8f6660a4156",
   "metadata": {},
   "outputs": [
    {
     "ename": "ValueError",
     "evalue": "multi_class must be in ('ovo', 'ovr')",
     "output_type": "error",
     "traceback": [
      "\u001b[1;31m---------------------------------------------------------------------------\u001b[0m",
      "\u001b[1;31mValueError\u001b[0m                                Traceback (most recent call last)",
      "Cell \u001b[1;32mIn[47], line 1\u001b[0m\n\u001b[1;32m----> 1\u001b[0m \u001b[43mroc_auc_score\u001b[49m\u001b[43m(\u001b[49m\u001b[43my_test\u001b[49m\u001b[43m,\u001b[49m\u001b[43m \u001b[49m\u001b[43my_test_predicted_rf\u001b[49m\u001b[43m)\u001b[49m\n",
      "File \u001b[1;32m~\\.conda\\envs\\ml_env\\lib\\site-packages\\sklearn\\utils\\_param_validation.py:216\u001b[0m, in \u001b[0;36mvalidate_params.<locals>.decorator.<locals>.wrapper\u001b[1;34m(*args, **kwargs)\u001b[0m\n\u001b[0;32m    210\u001b[0m \u001b[38;5;28;01mtry\u001b[39;00m:\n\u001b[0;32m    211\u001b[0m     \u001b[38;5;28;01mwith\u001b[39;00m config_context(\n\u001b[0;32m    212\u001b[0m         skip_parameter_validation\u001b[38;5;241m=\u001b[39m(\n\u001b[0;32m    213\u001b[0m             prefer_skip_nested_validation \u001b[38;5;129;01mor\u001b[39;00m global_skip_validation\n\u001b[0;32m    214\u001b[0m         )\n\u001b[0;32m    215\u001b[0m     ):\n\u001b[1;32m--> 216\u001b[0m         \u001b[38;5;28;01mreturn\u001b[39;00m func(\u001b[38;5;241m*\u001b[39margs, \u001b[38;5;241m*\u001b[39m\u001b[38;5;241m*\u001b[39mkwargs)\n\u001b[0;32m    217\u001b[0m \u001b[38;5;28;01mexcept\u001b[39;00m InvalidParameterError \u001b[38;5;28;01mas\u001b[39;00m e:\n\u001b[0;32m    218\u001b[0m     \u001b[38;5;66;03m# When the function is just a wrapper around an estimator, we allow\u001b[39;00m\n\u001b[0;32m    219\u001b[0m     \u001b[38;5;66;03m# the function to delegate validation to the estimator, but we replace\u001b[39;00m\n\u001b[0;32m    220\u001b[0m     \u001b[38;5;66;03m# the name of the estimator by the name of the function in the error\u001b[39;00m\n\u001b[0;32m    221\u001b[0m     \u001b[38;5;66;03m# message to avoid confusion.\u001b[39;00m\n\u001b[0;32m    222\u001b[0m     msg \u001b[38;5;241m=\u001b[39m re\u001b[38;5;241m.\u001b[39msub(\n\u001b[0;32m    223\u001b[0m         \u001b[38;5;124mr\u001b[39m\u001b[38;5;124m\"\u001b[39m\u001b[38;5;124mparameter of \u001b[39m\u001b[38;5;124m\\\u001b[39m\u001b[38;5;124mw+ must be\u001b[39m\u001b[38;5;124m\"\u001b[39m,\n\u001b[0;32m    224\u001b[0m         \u001b[38;5;124mf\u001b[39m\u001b[38;5;124m\"\u001b[39m\u001b[38;5;124mparameter of \u001b[39m\u001b[38;5;132;01m{\u001b[39;00mfunc\u001b[38;5;241m.\u001b[39m\u001b[38;5;18m__qualname__\u001b[39m\u001b[38;5;132;01m}\u001b[39;00m\u001b[38;5;124m must be\u001b[39m\u001b[38;5;124m\"\u001b[39m,\n\u001b[0;32m    225\u001b[0m         \u001b[38;5;28mstr\u001b[39m(e),\n\u001b[0;32m    226\u001b[0m     )\n",
      "File \u001b[1;32m~\\.conda\\envs\\ml_env\\lib\\site-packages\\sklearn\\metrics\\_ranking.py:634\u001b[0m, in \u001b[0;36mroc_auc_score\u001b[1;34m(y_true, y_score, average, sample_weight, max_fpr, multi_class, labels)\u001b[0m\n\u001b[0;32m    627\u001b[0m         \u001b[38;5;28;01mraise\u001b[39;00m \u001b[38;5;167;01mValueError\u001b[39;00m(\n\u001b[0;32m    628\u001b[0m             \u001b[38;5;124m\"\u001b[39m\u001b[38;5;124mPartial AUC computation not available in \u001b[39m\u001b[38;5;124m\"\u001b[39m\n\u001b[0;32m    629\u001b[0m             \u001b[38;5;124m\"\u001b[39m\u001b[38;5;124mmulticlass setting, \u001b[39m\u001b[38;5;124m'\u001b[39m\u001b[38;5;124mmax_fpr\u001b[39m\u001b[38;5;124m'\u001b[39m\u001b[38;5;124m must be\u001b[39m\u001b[38;5;124m\"\u001b[39m\n\u001b[0;32m    630\u001b[0m             \u001b[38;5;124m\"\u001b[39m\u001b[38;5;124m set to `None`, received `max_fpr=\u001b[39m\u001b[38;5;132;01m{0}\u001b[39;00m\u001b[38;5;124m` \u001b[39m\u001b[38;5;124m\"\u001b[39m\n\u001b[0;32m    631\u001b[0m             \u001b[38;5;124m\"\u001b[39m\u001b[38;5;124minstead\u001b[39m\u001b[38;5;124m\"\u001b[39m\u001b[38;5;241m.\u001b[39mformat(max_fpr)\n\u001b[0;32m    632\u001b[0m         )\n\u001b[0;32m    633\u001b[0m     \u001b[38;5;28;01mif\u001b[39;00m multi_class \u001b[38;5;241m==\u001b[39m \u001b[38;5;124m\"\u001b[39m\u001b[38;5;124mraise\u001b[39m\u001b[38;5;124m\"\u001b[39m:\n\u001b[1;32m--> 634\u001b[0m         \u001b[38;5;28;01mraise\u001b[39;00m \u001b[38;5;167;01mValueError\u001b[39;00m(\u001b[38;5;124m\"\u001b[39m\u001b[38;5;124mmulti_class must be in (\u001b[39m\u001b[38;5;124m'\u001b[39m\u001b[38;5;124movo\u001b[39m\u001b[38;5;124m'\u001b[39m\u001b[38;5;124m, \u001b[39m\u001b[38;5;124m'\u001b[39m\u001b[38;5;124movr\u001b[39m\u001b[38;5;124m'\u001b[39m\u001b[38;5;124m)\u001b[39m\u001b[38;5;124m\"\u001b[39m)\n\u001b[0;32m    635\u001b[0m     \u001b[38;5;28;01mreturn\u001b[39;00m _multiclass_roc_auc_score(\n\u001b[0;32m    636\u001b[0m         y_true, y_score, labels, multi_class, average, sample_weight\n\u001b[0;32m    637\u001b[0m     )\n\u001b[0;32m    638\u001b[0m \u001b[38;5;28;01melif\u001b[39;00m y_type \u001b[38;5;241m==\u001b[39m \u001b[38;5;124m\"\u001b[39m\u001b[38;5;124mbinary\u001b[39m\u001b[38;5;124m\"\u001b[39m:\n",
      "\u001b[1;31mValueError\u001b[0m: multi_class must be in ('ovo', 'ovr')"
     ]
    }
   ],
   "source": [
    "roc_auc_score(y_test, y_test_predicted_rf)"
   ]
  },
  {
   "cell_type": "code",
   "execution_count": null,
   "id": "ebfef462-4249-4100-897c-5ccff82be730",
   "metadata": {},
   "outputs": [],
   "source": [
    "fpr, tpr, thrsholds = roc_curve(y_test, y_test_predicted_rf)"
   ]
  },
  {
   "cell_type": "code",
   "execution_count": null,
   "id": "62b64b9b-cec8-4ce6-a0b8-725aea490aa3",
   "metadata": {},
   "outputs": [],
   "source": [
    "plt.figure(figsize=(5,4))\n",
    "plt.plot(fpr, tpr, c=\"b\", linestyle=\"solid\")\n",
    "plt.title(\"ROC curve -  TPR vs FPR\")\n",
    "plt.xlabel(\"False Positive Rate (FPR)\")\n",
    "plt.ylabel(\"True Positive Rate (TPR)\")\n",
    "plt.show()"
   ]
  },
  {
   "cell_type": "code",
   "execution_count": null,
   "id": "0b190a8d-db41-417d-8f3f-a83ae999a888",
   "metadata": {},
   "outputs": [],
   "source": [
    "conf_matrix = confusion_matrix(y_test, y_test_predicted_rf)"
   ]
  },
  {
   "cell_type": "code",
   "execution_count": null,
   "id": "12e51268-ab18-4343-9d12-6d64d2910983",
   "metadata": {},
   "outputs": [],
   "source": [
    "plt.matshow(conf_matrix, cmap=plt.cm.gray)\n",
    "plt.show()"
   ]
  },
  {
   "cell_type": "markdown",
   "id": "840dd273-e216-4ee5-80e5-33cd7ad05497",
   "metadata": {},
   "source": [
    "# Multilabel Classification - A classifier that outputs multiple binary labels for an instance.  \n",
    "Example: Recognising faces in a picture. An algorithm trained to recognise Alice, Bob and Charlie identifies Alice and Charlie in a picture. Output: [1,0,1].  "
   ]
  },
  {
   "cell_type": "markdown",
   "id": "85cead9d-91c7-48fb-a5cf-19bcfa02b7da",
   "metadata": {},
   "source": [
    "##### Training a multilabel classifier to detect if a digit is larger than 7 and is odd or not"
   ]
  },
  {
   "cell_type": "code",
   "execution_count": null,
   "id": "3c772f6a-bd88-4868-9058-f81086d0eb97",
   "metadata": {},
   "outputs": [],
   "source": [
    "y_train_large = (y_train >= 7)\n",
    "y_train_odd = (y_train % 2 != 0)\n",
    "y_train_multilabel = np.c_[y_train_large, y_train_odd]\n",
    "\n",
    "y_test_large = (y_test >= 7)\n",
    "y_test_odd = (y_test % 2 != 0)\n",
    "y_test_multilabel = np.c_[y_test_large, y_test_odd]"
   ]
  },
  {
   "cell_type": "code",
   "execution_count": null,
   "id": "2a37b3ff-4cdc-4e9a-a3e4-ba251e8a7be6",
   "metadata": {},
   "outputs": [],
   "source": [
    "knn_clf = MultiOutputClassifier(KNeighborsClassifier())\n",
    "knn_clf = knn_clf.fit(X_train_scaled, y_train_multilabel)\n",
    "y_train_multilabel_predicted = cross_val_predict(knn_clf, X_train_scaled, y_train_multilabel, cv=5)"
   ]
  },
  {
   "cell_type": "code",
   "execution_count": null,
   "id": "d9ad56f7-df32-486f-bf3d-25151df0283f",
   "metadata": {},
   "outputs": [],
   "source": [
    "print(f\"Train Accuracy : {accuracy_score(y_train_multilabel, y_train_multilabel_predicted)}\")\n",
    "print(f\"Train Precision : {precision_score(y_train_multilabel, y_train_multilabel_predicted, average='weighted')}\") # average='weighted' give more weighted to the one that has more no. of instances\n",
    "print(f\"Train Recall : {recall_score(y_train_multilabel, y_train_multilabel_predicted, average='weighted')}\")\n",
    "print(f\"Train F1-score: {f1_score(y_train_multilabel, y_train_multilabel_predicted, average='weighted')}\")"
   ]
  },
  {
   "cell_type": "code",
   "execution_count": null,
   "id": "6bc0d83d-6aa1-4821-9e92-07d890771441",
   "metadata": {},
   "outputs": [],
   "source": [
    "y_test_multilabel_predicted = knn_clf.predict(X_test_scaled)"
   ]
  },
  {
   "cell_type": "code",
   "execution_count": null,
   "id": "afe52675-412b-4f8b-8b13-2c6a3858cb8b",
   "metadata": {},
   "outputs": [],
   "source": [
    "print(f\"Test Accuracy : {accuracy_score(y_test_multilabel, y_test_multilabel_predicted)}\")\n",
    "print(f\"Test Precision : {precision_score(y_test_multilabel, y_test_multilabel_predicted, average='weighted')}\") # average='weighted' give more weighted to the one that has more no. of instances\n",
    "print(f\"Test Recall : {recall_score(y_test_multilabel, y_test_multilabel_predicted, average='weighted')}\")\n",
    "print(f\"Test F1-score: {f1_score(y_test_multilabel, y_test_multilabel_predicted, average='weighted')}\")"
   ]
  },
  {
   "cell_type": "code",
   "execution_count": null,
   "id": "ab360a8b-65fc-4ee6-8005-4c6813aad433",
   "metadata": {},
   "outputs": [],
   "source": [
    "roc_auc_score(y_test_multilabel, y_test_multilabel_predicted)"
   ]
  },
  {
   "cell_type": "code",
   "execution_count": null,
   "id": "84e27d0b-0c93-4f99-8908-8e7572634077",
   "metadata": {},
   "outputs": [],
   "source": [
    "print(classification_report(y_test_multilabel, y_test_multilabel_predicted, target_names=[\"Large>=7\", \"Odd\"]))"
   ]
  },
  {
   "cell_type": "code",
   "execution_count": null,
   "id": "69d10dc5-2942-4f18-9de6-b341a3aab0ab",
   "metadata": {},
   "outputs": [],
   "source": []
  }
 ],
 "metadata": {
  "kernelspec": {
   "display_name": "ml_env",
   "language": "python",
   "name": "ml_env"
  },
  "language_info": {
   "codemirror_mode": {
    "name": "ipython",
    "version": 3
   },
   "file_extension": ".py",
   "mimetype": "text/x-python",
   "name": "python",
   "nbconvert_exporter": "python",
   "pygments_lexer": "ipython3",
   "version": "3.10.6"
  }
 },
 "nbformat": 4,
 "nbformat_minor": 5
}
